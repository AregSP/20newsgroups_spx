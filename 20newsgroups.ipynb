{
  "cells": [
    {
      "cell_type": "markdown",
      "metadata": {
        "id": "view-in-github",
        "colab_type": "text"
      },
      "source": [
        "<a href=\"https://colab.research.google.com/github/AregSP/20newsgroups_spx/blob/main/20newsgroups.ipynb\" target=\"_parent\"><img src=\"https://colab.research.google.com/assets/colab-badge.svg\" alt=\"Open In Colab\"/></a>"
      ]
    },
    {
      "cell_type": "markdown",
      "source": [
        "# Lang, Ken. \"Newsweeder: Learning to filter netnews.\" Machine Learning Proceedings 1995. Morgan Kaufmann, 1995. 331-339."
      ],
      "metadata": {
        "id": "Mjg2Bpcpr2_9"
      }
    },
    {
      "cell_type": "markdown",
      "metadata": {
        "id": "vD06h3Y6aC2E"
      },
      "source": [
        "# Fetch the 20 newsgroups dataset using scikit learn"
      ]
    },
    {
      "cell_type": "code",
      "execution_count": null,
      "metadata": {
        "collapsed": true,
        "id": "VE83s5Is7mIo",
        "colab": {
          "base_uri": "https://localhost:8080/",
          "height": 495
        },
        "outputId": "3ff6b11d-7265-4e56-e75c-ee2d641bdcb6"
      },
      "outputs": [
        {
          "output_type": "stream",
          "name": "stdout",
          "text": [
            "['alt.atheism', 'comp.graphics', 'comp.os.ms-windows.misc', 'comp.sys.ibm.pc.hardware', 'comp.sys.mac.hardware', 'comp.windows.x', 'misc.forsale', 'rec.autos', 'rec.motorcycles', 'rec.sport.baseball', 'rec.sport.hockey', 'sci.crypt', 'sci.electronics', 'sci.med', 'sci.space', 'soc.religion.christian', 'talk.politics.guns', 'talk.politics.mideast', 'talk.politics.misc', 'talk.religion.misc']\n"
          ]
        },
        {
          "output_type": "execute_result",
          "data": {
            "text/plain": [
              "0        From: lerxst@wam.umd.edu (where's my thing)\\nS...\n",
              "1        From: guykuo@carson.u.washington.edu (Guy Kuo)...\n",
              "2        From: twillis@ec.ecn.purdue.edu (Thomas E Will...\n",
              "3        From: jgreen@amber (Joe Green)\\nSubject: Re: W...\n",
              "4        From: jcm@head-cfa.harvard.edu (Jonathan McDow...\n",
              "                               ...                        \n",
              "11309    From: jim.zisfein@factory.com (Jim Zisfein) \\n...\n",
              "11310    From: ebodin@pearl.tufts.edu\\nSubject: Screen ...\n",
              "11311    From: westes@netcom.com (Will Estes)\\nSubject:...\n",
              "11312    From: steve@hcrlgw (Steven Collins)\\nSubject: ...\n",
              "11313    From: gunning@cco.caltech.edu (Kevin J. Gunnin...\n",
              "Name: text, Length: 11314, dtype: object"
            ],
            "text/html": [
              "<div>\n",
              "<style scoped>\n",
              "    .dataframe tbody tr th:only-of-type {\n",
              "        vertical-align: middle;\n",
              "    }\n",
              "\n",
              "    .dataframe tbody tr th {\n",
              "        vertical-align: top;\n",
              "    }\n",
              "\n",
              "    .dataframe thead th {\n",
              "        text-align: right;\n",
              "    }\n",
              "</style>\n",
              "<table border=\"1\" class=\"dataframe\">\n",
              "  <thead>\n",
              "    <tr style=\"text-align: right;\">\n",
              "      <th></th>\n",
              "      <th>text</th>\n",
              "    </tr>\n",
              "  </thead>\n",
              "  <tbody>\n",
              "    <tr>\n",
              "      <th>0</th>\n",
              "      <td>From: lerxst@wam.umd.edu (where's my thing)\\nS...</td>\n",
              "    </tr>\n",
              "    <tr>\n",
              "      <th>1</th>\n",
              "      <td>From: guykuo@carson.u.washington.edu (Guy Kuo)...</td>\n",
              "    </tr>\n",
              "    <tr>\n",
              "      <th>2</th>\n",
              "      <td>From: twillis@ec.ecn.purdue.edu (Thomas E Will...</td>\n",
              "    </tr>\n",
              "    <tr>\n",
              "      <th>3</th>\n",
              "      <td>From: jgreen@amber (Joe Green)\\nSubject: Re: W...</td>\n",
              "    </tr>\n",
              "    <tr>\n",
              "      <th>4</th>\n",
              "      <td>From: jcm@head-cfa.harvard.edu (Jonathan McDow...</td>\n",
              "    </tr>\n",
              "    <tr>\n",
              "      <th>...</th>\n",
              "      <td>...</td>\n",
              "    </tr>\n",
              "    <tr>\n",
              "      <th>11309</th>\n",
              "      <td>From: jim.zisfein@factory.com (Jim Zisfein) \\n...</td>\n",
              "    </tr>\n",
              "    <tr>\n",
              "      <th>11310</th>\n",
              "      <td>From: ebodin@pearl.tufts.edu\\nSubject: Screen ...</td>\n",
              "    </tr>\n",
              "    <tr>\n",
              "      <th>11311</th>\n",
              "      <td>From: westes@netcom.com (Will Estes)\\nSubject:...</td>\n",
              "    </tr>\n",
              "    <tr>\n",
              "      <th>11312</th>\n",
              "      <td>From: steve@hcrlgw (Steven Collins)\\nSubject: ...</td>\n",
              "    </tr>\n",
              "    <tr>\n",
              "      <th>11313</th>\n",
              "      <td>From: gunning@cco.caltech.edu (Kevin J. Gunnin...</td>\n",
              "    </tr>\n",
              "  </tbody>\n",
              "</table>\n",
              "<p>11314 rows × 1 columns</p>\n",
              "</div><br><label><b>dtype:</b> object</label>"
            ]
          },
          "metadata": {},
          "execution_count": 60
        }
      ],
      "source": [
        "import pandas as pd\n",
        "from sklearn.datasets import fetch_20newsgroups\n",
        "\n",
        "newsgroups = fetch_20newsgroups()\n",
        "\n",
        "print(newsgroups.target_names) # 20 classes\n",
        "\n",
        "text = pd.Series(newsgroups.data, name='text')\n",
        "\n",
        "text"
      ]
    },
    {
      "cell_type": "markdown",
      "metadata": {
        "id": "Fr3VArg3aKlG"
      },
      "source": [
        "# Convert the data to high dimensional numerical format using vectorization"
      ]
    },
    {
      "cell_type": "code",
      "execution_count": null,
      "metadata": {
        "colab": {
          "base_uri": "https://localhost:8080/"
        },
        "id": "7VMs6Eizaigc",
        "outputId": "cc84860f-85b2-4375-e6a3-4784502ea12e"
      },
      "outputs": [
        {
          "output_type": "execute_result",
          "data": {
            "text/plain": [
              "<11314x129796 sparse matrix of type '<class 'numpy.float64'>'\n",
              "\twith 1300729 stored elements in Compressed Sparse Row format>"
            ]
          },
          "metadata": {},
          "execution_count": 61
        }
      ],
      "source": [
        "from sklearn.feature_extraction.text import TfidfVectorizer\n",
        "\n",
        "vectorizer = TfidfVectorizer(stop_words='english') # initialize the transformer instance that will skip on common words (e.g. 'and')\n",
        "\n",
        "vectors = vectorizer.fit_transform(text)\n",
        "\n",
        "vectors # now the dataset is a very sparse matrix with thousands of features. each feature represents a symbol in the vocabulary and its value represents the weight (importance) of the symbol in the given instance. this is what TF-IDF technique does. other preprocessing steps like lowercasing, tokenization and converting words to their roots are also handled under the hood."
      ]
    },
    {
      "cell_type": "markdown",
      "metadata": {
        "id": "aSPEiuwnccAD"
      },
      "source": [
        "Train Test Split"
      ]
    },
    {
      "cell_type": "code",
      "execution_count": null,
      "metadata": {
        "id": "XgHcYniKa6U9"
      },
      "outputs": [],
      "source": [
        "from sklearn.model_selection import train_test_split\n",
        "\n",
        "X_train, X_test, y_train, y_test = train_test_split(vectors, newsgroups.target, test_size=0.2, random_state=42)"
      ]
    },
    {
      "cell_type": "markdown",
      "metadata": {
        "id": "_v6I6EmrC_0P"
      },
      "source": [
        "Visualize class distribution (mostly balanced, we can go straight to model picking)"
      ]
    },
    {
      "cell_type": "code",
      "execution_count": null,
      "metadata": {
        "colab": {
          "base_uri": "https://localhost:8080/",
          "height": 487
        },
        "id": "D1PBv3dxCR2H",
        "outputId": "8f9e36fb-b6d1-425a-97c6-8cd1d86fba71"
      },
      "outputs": [
        {
          "output_type": "display_data",
          "data": {
            "text/plain": [
              "<Figure size 1000x500 with 1 Axes>"
            ],
            "image/png": "[encoded data removed]"
          },
          "metadata": {}
        }
      ],
      "source": [
        "import matplotlib.pyplot as plt\n",
        "from collections import Counter\n",
        "\n",
        "# Visualize target distribution\n",
        "target_counts = Counter(newsgroups.target)\n",
        "plt.figure(figsize=(10, 5))\n",
        "plt.bar(target_counts.keys(), target_counts.values())\n",
        "plt.xlabel('Target Class')\n",
        "plt.ylabel('Frequency')\n",
        "plt.title('Distribution of Target Classes')\n",
        "plt.show()"
      ]
    },
    {
      "cell_type": "markdown",
      "metadata": {
        "id": "KPm6v40QDGJQ"
      },
      "source": [
        "# Algorithm evaluation (Naive Bayes, Logistic Regression, SVM)"
      ]
    },
    {
      "cell_type": "code",
      "execution_count": null,
      "metadata": {
        "id": "UT5sC6wUDKDt"
      },
      "outputs": [],
      "source": [
        "from spxr.ml import compare_classifiers # custom function that makes out-of-sample predictions under the hood and outputs the specified metrics\n",
        "from sklearn.naive_bayes import MultinomialNB\n",
        "from sklearn.linear_model import LogisticRegression, SGDClassifier\n",
        "from sklearn.svm import LinearSVC\n",
        "\n",
        "eval = False\n",
        "if eval:\n",
        "  # comparing lightweight models suitable for text classification (can handle high numbers of features efficiently)\n",
        "  compare_classifiers(X_train, y_train, models=[MultinomialNB(), LogisticRegression(), LinearSVC(), SGDClassifier()], average='macro', metrics=['f1']) # Linear SVM performs the best initially"
      ]
    },
    {
      "cell_type": "markdown",
      "source": [
        "# Hyperparameter tuning"
      ],
      "metadata": {
        "id": "qc7VJD8tVpO3"
      }
    },
    {
      "cell_type": "code",
      "source": [
        "from sklearn.linear_model import SGDClassifier\n",
        "from sklearn.model_selection import GridSearchCV\n",
        "\n",
        "# Define parameter grids for MultinomialNB and SGDClassifier\n",
        "param_grid_nb = {'alpha': [0.1, 0.5, 1.0, 10, 0.01, 0.05, 0.001]}\n",
        "param_grid_svm = {'loss': ['hinge'], 'penalty': ['l2'], 'alpha': [0.0001, 0.001, 0.01]}\n",
        "param_grid_log = {'loss': ['log_loss'], 'penalty': ['l2'], 'alpha': [0.0001, 0.00001, 0.00005]}\n",
        "\n",
        "# logistic regression and linearsvm will be trained with Stochastic Gradient Descent, as it provides the same results with more speed\n",
        "\n",
        "# Create models\n",
        "model_nb = MultinomialNB()\n",
        "sgd = SGDClassifier(random_state=42)\n",
        "\n",
        "search = False\n",
        "if search:\n",
        "\n",
        "  # Perform grid search for MultinomialNB\n",
        "  grid_search_nb = GridSearchCV(estimator=model_nb, param_grid=param_grid_nb, cv=5, scoring='f1_macro')\n",
        "  grid_search_nb.fit(X_train, y_train)\n",
        "\n",
        "  print(\"MultinomialNB Best parameters: \", grid_search_nb.best_params_)\n",
        "  print(\"MultinomialNB Best score: \", grid_search_nb.best_score_)\n",
        "  best_model_nb = grid_search_nb.best_estimator_\n",
        "\n",
        "\n",
        "  # Perform grid search for SGDClassifier\n",
        "  grid_search_svm = GridSearchCV(estimator=sgd, param_grid=param_grid_svm, cv=5, scoring='f1_macro')\n",
        "  grid_search_svm.fit(X_train, y_train)\n",
        "\n",
        "  grid_search_log = GridSearchCV(sgd, param_grid=param_grid_log, cv=5, scoring='f1_macro')\n",
        "  grid_search_log.fit(X_train, y_train)\n",
        "\n",
        "  print(\"SVM Best parameters: \", grid_search_svm.best_params_)\n",
        "  print(\"SVM Best score: \", grid_search_svm.best_score_)\n",
        "  best_model_svm = grid_search_svm.best_estimator_\n",
        "\n",
        "  print(\"Log Best parameters: \", grid_search_log.best_params_)\n",
        "  print(\"Log Best score: \", grid_search_log.best_score_)\n",
        "  best_model_log = grid_search_log.best_estimator_\n",
        "\n",
        "  compare_classifiers(X_train, y_train, models=[best_model_nb, best_model_svm, best_model_log], average='macro', metrics=['f1'])\n",
        "\n",
        "# best hyperparameters and the f1 scores:\n",
        "# nb - alpha 0.01 (0.89)\n",
        "# log reg - alpha 0.00005 penalty l2 (0.903)\n",
        "# svm - alpha 0.0001 penalty l2 (0.908)"
      ],
      "metadata": {
        "collapsed": true,
        "id": "KPa9OMQKZSSL"
      },
      "execution_count": null,
      "outputs": []
    },
    {
      "cell_type": "markdown",
      "source": [
        "# Building an ensemble"
      ],
      "metadata": {
        "id": "w9b8G-h7fmAs"
      }
    },
    {
      "cell_type": "code",
      "source": [
        "from sklearn.ensemble import VotingClassifier\n",
        "from sklearn.calibration import CalibratedClassifierCV\n",
        "\n",
        "svm = CalibratedClassifierCV(SGDClassifier(alpha=0.0001, loss='hinge', penalty='l2')) # enable probabilities for sgd-svm\n",
        "log = SGDClassifier(alpha=0.00005, loss='log_loss', penalty='l2')\n",
        "nb = MultinomialNB(alpha=0.01)\n",
        "\n",
        "estimators = [('nb', nb), ('log', log), ('svm', svm)]\n",
        "\n",
        "voters = VotingClassifier(estimators=estimators, voting='soft')\n",
        "\n",
        "voters.fit(X_train, y_train)\n",
        "\n",
        "run = False\n",
        "if run:\n",
        "  compare_classifiers(X_train, y_train, models=[voters], average='macro', metrics=['f1']) # additional 0.3% of performance (0.911)"
      ],
      "metadata": {
        "id": "NT6l-7XbfoAA"
      },
      "execution_count": null,
      "outputs": []
    },
    {
      "cell_type": "markdown",
      "source": [
        "# Evaluate on test set"
      ],
      "metadata": {
        "id": "CEluCH6Vkdqn"
      }
    },
    {
      "cell_type": "code",
      "source": [
        "from sklearn.metrics import classification_report\n",
        "\n",
        "X_test_pred = voters.predict(X_test)\n",
        "\n",
        "print(classification_report(y_test, X_test_pred)) # solid performance (0.92 f1 macro score). classification report reveals that the model performs slightly worse for some classes (computer graphics, pc hardware, religion) and performs almost flawless on space documents"
      ],
      "metadata": {
        "colab": {
          "base_uri": "https://localhost:8080/"
        },
        "collapsed": true,
        "id": "biJwS_jdkfiW",
        "outputId": "7eb5867b-ef61-4851-88be-65574eb0c297"
      },
      "execution_count": null,
      "outputs": [
        {
          "output_type": "stream",
          "name": "stdout",
          "text": [
            "              precision    recall  f1-score   support\n",
            "\n",
            "           0       0.95      0.96      0.95        97\n",
            "           1       0.79      0.85      0.81       104\n",
            "           2       0.91      0.84      0.87       115\n",
            "           3       0.76      0.80      0.78       123\n",
            "           4       0.96      0.90      0.93       126\n",
            "           5       0.89      0.93      0.91       106\n",
            "           6       0.84      0.90      0.87       109\n",
            "           7       0.96      0.94      0.95       139\n",
            "           8       0.96      0.97      0.96       122\n",
            "           9       0.98      0.97      0.98       102\n",
            "          10       0.98      0.97      0.98       108\n",
            "          11       0.99      0.97      0.98       125\n",
            "          12       0.90      0.88      0.89       114\n",
            "          13       0.98      0.97      0.98       119\n",
            "          14       0.99      0.99      0.99       127\n",
            "          15       0.92      0.94      0.93       122\n",
            "          16       0.96      0.97      0.96       121\n",
            "          17       0.96      1.00      0.98       102\n",
            "          18       0.96      0.98      0.97       107\n",
            "          19       0.90      0.75      0.82        75\n",
            "\n",
            "    accuracy                           0.93      2263\n",
            "   macro avg       0.93      0.92      0.93      2263\n",
            "weighted avg       0.93      0.93      0.93      2263\n",
            "\n"
          ]
        }
      ]
    }
  ],
  "metadata": {
    "colab": {
      "provenance": [],
      "authorship_tag": "ABX9TyOhG/eg8g8mMdjOi8BrieTn",
      "include_colab_link": true
    },
    "kernelspec": {
      "display_name": "Python 3",
      "name": "python3"
    },
    "language_info": {
      "name": "python"
    }
  },
  "nbformat": 4,
  "nbformat_minor": 0
}